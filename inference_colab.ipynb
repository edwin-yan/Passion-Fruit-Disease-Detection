{
  "nbformat": 4,
  "nbformat_minor": 0,
  "metadata": {
    "kernelspec": {
      "display_name": "Python 3",
      "language": "python",
      "name": "python3"
    },
    "language_info": {
      "codemirror_mode": {
        "name": "ipython",
        "version": 3
      },
      "file_extension": ".py",
      "mimetype": "text/x-python",
      "name": "python",
      "nbconvert_exporter": "python",
      "pygments_lexer": "ipython3",
      "version": "3.8.5"
    },
    "colab": {
      "name": "inference_colab.ipynb",
      "provenance": [],
      "collapsed_sections": [],
      "include_colab_link": true
    }
  },
  "cells": [
    {
      "cell_type": "markdown",
      "metadata": {
        "id": "view-in-github",
        "colab_type": "text"
      },
      "source": [
        "<a href=\"https://colab.research.google.com/github/edwin-yan/Passion-Fruit-Disease-Detection/blob/andrew/inference_colab.ipynb\" target=\"_parent\"><img src=\"https://colab.research.google.com/assets/colab-badge.svg\" alt=\"Open In Colab\"/></a>"
      ]
    },
    {
      "cell_type": "markdown",
      "metadata": {
        "id": "dS2vrWEoBcoh"
      },
      "source": [
        "Look at `Inference` section: \n",
        "https://colab.research.google.com/github/ultralytics/yolov5/blob/master/tutorial.ipynb\n",
        "\n",
        "And this file:\n",
        "https://github.com/ultralytics/yolov5/blob/master/detect.py\n"
      ]
    },
    {
      "cell_type": "markdown",
      "metadata": {
        "id": "_cPinh_su0S3"
      },
      "source": [
        "# SET UP\n",
        "## Mounting\n",
        "\n",
        "Note that this assumes that your google drive folder has the same document layout. You must modify if that is not the case.\n",
        "\n",
        "\n",
        "From your root Google Drive directory assumes there are these folders:\n",
        "* `JHU/DNN/FinalProject/best.pt` -- weights\n",
        "* `JHU/DNN/FinalProject/Test_Images` -- test images\n",
        "\n",
        "with Test images unzipped in those directories\n",
        "\n"
      ]
    },
    {
      "cell_type": "markdown",
      "metadata": {
        "id": "tRoyDIQtpR6Y"
      },
      "source": [
        "# **TODO:** GLOBAL VARIABLE set to `True` if using colab and `False` if not!"
      ]
    },
    {
      "cell_type": "code",
      "metadata": {
        "id": "a9XybEmrpU_7"
      },
      "source": [
        "IS_COLAB = True "
      ],
      "execution_count": 11,
      "outputs": []
    },
    {
      "cell_type": "markdown",
      "metadata": {
        "id": "iQ8qkfLuJRrb"
      },
      "source": [
        "# **TODO:** CHANGE `IMG_PATH` if your google drive directory is different"
      ]
    },
    {
      "cell_type": "code",
      "metadata": {
        "colab": {
          "base_uri": "https://localhost:8080/"
        },
        "id": "xxrO_DraRknb",
        "outputId": "e83a5ab4-a644-4fdd-a669-58d8e385e89b"
      },
      "source": [
        "if IS_COLAB:\n",
        "  from google.colab import drive\n",
        "  drive.mount('/content/drive')\n",
        "  IMG_PATH = '/content/drive/MyDrive/JHU/DNN/FinalProject'\n",
        "else:\n",
        "  IMG_PATH= '.'"
      ],
      "execution_count": 12,
      "outputs": [
        {
          "output_type": "stream",
          "name": "stdout",
          "text": [
            "Drive already mounted at /content/drive; to attempt to forcibly remount, call drive.mount(\"/content/drive\", force_remount=True).\n"
          ]
        }
      ]
    },
    {
      "cell_type": "code",
      "metadata": {
        "id": "yDVIT00A_fnJ"
      },
      "source": [
        "TEST_IMAGES = f'{IMG_PATH}/Test_Images'"
      ],
      "execution_count": 13,
      "outputs": []
    },
    {
      "cell_type": "code",
      "metadata": {
        "id": "fZmwKUrj_lVL"
      },
      "source": [
        "WEIGHTS = f'{IMG_PATH}/best.pt'"
      ],
      "execution_count": 14,
      "outputs": []
    },
    {
      "cell_type": "markdown",
      "metadata": {
        "id": "qVAcTXJc_BAh"
      },
      "source": [
        "Start timer"
      ]
    },
    {
      "cell_type": "code",
      "metadata": {
        "id": "PVhVRjCTRQbF"
      },
      "source": [
        "import time\n",
        "\n",
        "t0 = time.time()"
      ],
      "execution_count": 15,
      "outputs": []
    },
    {
      "cell_type": "markdown",
      "metadata": {
        "id": "t_VrAkCg_DGH"
      },
      "source": [
        "# !!TODO: you don't have to do this if you aren't using colab and your images are in a different directory!!\n",
        "Copy test images from google drive to colab storage for speed:\n",
        "\n",
        "Takes about 3 mins"
      ]
    },
    {
      "cell_type": "code",
      "metadata": {
        "id": "d8nNGHb4_CzY"
      },
      "source": [
        "! cp -r {TEST_IMAGES} /content"
      ],
      "execution_count": 16,
      "outputs": []
    },
    {
      "cell_type": "markdown",
      "metadata": {
        "id": "_dXVmyxyAjab"
      },
      "source": [
        "# **TODO:** CHANGE `TEST_IMAGES` if your test directories are somewhere else"
      ]
    },
    {
      "cell_type": "code",
      "metadata": {
        "id": "-mwbtMZuAq3e"
      },
      "source": [
        "TEST_IMAGES_LOCAL = '/content/Test_Images'"
      ],
      "execution_count": 17,
      "outputs": []
    },
    {
      "cell_type": "markdown",
      "metadata": {
        "id": "sOUMUmVR15ip"
      },
      "source": [
        "Inference"
      ]
    },
    {
      "cell_type": "markdown",
      "metadata": {
        "id": "2uRe8kOk3fsv"
      },
      "source": [
        "https://github.com/ultralytics/yolov5#quick-start-examples"
      ]
    },
    {
      "cell_type": "code",
      "metadata": {
        "colab": {
          "base_uri": "https://localhost:8080/"
        },
        "id": "j4oj41n215R5",
        "outputId": "fb4a9e4c-906b-45df-fee1-6f2f5e7f0fee"
      },
      "source": [
        "!git clone https://github.com/ultralytics/yolov5\n",
        "!cd yolov5\n",
        "!pip install -r requirements.txt\n"
      ],
      "execution_count": 18,
      "outputs": [
        {
          "output_type": "stream",
          "name": "stdout",
          "text": [
            "fatal: destination path 'yolov5' already exists and is not an empty directory.\n",
            "\u001b[31mERROR: Could not open requirements file: [Errno 2] No such file or directory: 'requirements.txt'\u001b[0m\n"
          ]
        }
      ]
    },
    {
      "cell_type": "markdown",
      "metadata": {
        "id": "dI8PP-QhAQgp"
      },
      "source": [
        "## !! NOTE: change"
      ]
    },
    {
      "cell_type": "code",
      "metadata": {
        "colab": {
          "base_uri": "https://localhost:8080/"
        },
        "id": "qIl13GXh2A6E",
        "outputId": "4c6324a3-887c-4d37-cf58-60e1efa3caa0"
      },
      "source": [
        "! python detect.py --source {TEST_IMAGES_LOCAL} --weights {WEIGHTS} --save_txt True --save_conf True "
      ],
      "execution_count": 19,
      "outputs": [
        {
          "output_type": "stream",
          "name": "stdout",
          "text": [
            "python3: can't open file 'detect.py': [Errno 2] No such file or directory\n"
          ]
        }
      ]
    },
    {
      "cell_type": "markdown",
      "metadata": {
        "id": "JCSHi_cs-6v4"
      },
      "source": [
        "Adjust files to Zindi format"
      ]
    },
    {
      "cell_type": "code",
      "metadata": {
        "colab": {
          "base_uri": "https://localhost:8080/"
        },
        "id": "acw1TM7O-Wcq",
        "outputId": "2094e858-db02-46a7-f519-01decd8ff062"
      },
      "source": [
        "tend = time.time()\n",
        "print('Elapsed time: ', (tend-t0)/60, ' minutes')"
      ],
      "execution_count": 20,
      "outputs": [
        {
          "output_type": "stream",
          "name": "stdout",
          "text": [
            "Elapsed time:  1.359854479630788  minutes\n"
          ]
        }
      ]
    }
  ]
}