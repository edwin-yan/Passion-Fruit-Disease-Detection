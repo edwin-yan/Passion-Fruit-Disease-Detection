{
  "nbformat": 4,
  "nbformat_minor": 0,
  "metadata": {
    "kernelspec": {
      "display_name": "Python 3",
      "language": "python",
      "name": "python3"
    },
    "language_info": {
      "codemirror_mode": {
        "name": "ipython",
        "version": 3
      },
      "file_extension": ".py",
      "mimetype": "text/x-python",
      "name": "python",
      "nbconvert_exporter": "python",
      "pygments_lexer": "ipython3",
      "version": "3.8.5"
    },
    "colab": {
      "name": "inference_colab.ipynb",
      "provenance": [],
      "collapsed_sections": [],
      "include_colab_link": true
    }
  },
  "cells": [
    {
      "cell_type": "markdown",
      "metadata": {
        "id": "view-in-github",
        "colab_type": "text"
      },
      "source": [
        "<a href=\"https://colab.research.google.com/github/edwin-yan/Passion-Fruit-Disease-Detection/blob/andrew/inference_colab.ipynb\" target=\"_parent\"><img src=\"https://colab.research.google.com/assets/colab-badge.svg\" alt=\"Open In Colab\"/></a>"
      ]
    },
    {
      "cell_type": "markdown",
      "metadata": {
        "id": "dS2vrWEoBcoh"
      },
      "source": [
        "Look at `Inference` section: \n",
        "https://colab.research.google.com/github/ultralytics/yolov5/blob/master/tutorial.ipynb\n",
        "\n",
        "And this file:\n",
        "https://github.com/ultralytics/yolov5/blob/master/detect.py\n"
      ]
    },
    {
      "cell_type": "markdown",
      "metadata": {
        "id": "_cPinh_su0S3"
      },
      "source": [
        "# SET UP\n",
        "## Mounting\n",
        "\n",
        "Note that this assumes that your google drive folder has the same document layout. You must modify if that is not the case.\n",
        "\n",
        "\n",
        "From your root Google Drive directory assumes there are these folders:\n",
        "* `JHU/DNN/FinalProject/best.pt` -- weights\n",
        "* `JHU/DNN/FinalProject/Test_Images` -- test images\n",
        "\n",
        "with Test images unzipped in those directories\n",
        "\n"
      ]
    },
    {
      "cell_type": "markdown",
      "metadata": {
        "id": "tRoyDIQtpR6Y"
      },
      "source": [
        "# **TODO:** GLOBAL VARIABLE set to `True` if using colab and `False` if not!"
      ]
    },
    {
      "cell_type": "code",
      "metadata": {
        "id": "a9XybEmrpU_7"
      },
      "source": [
        "IS_COLAB = True "
      ],
      "execution_count": 1,
      "outputs": []
    },
    {
      "cell_type": "markdown",
      "metadata": {
        "id": "iQ8qkfLuJRrb"
      },
      "source": [
        "# **TODO:** CHANGE `IMG_PATH` if your google drive directory is different"
      ]
    },
    {
      "cell_type": "code",
      "metadata": {
        "colab": {
          "base_uri": "https://localhost:8080/"
        },
        "id": "xxrO_DraRknb",
        "outputId": "572584d6-6701-4934-f6d6-2f0beac434cf"
      },
      "source": [
        "if IS_COLAB:\n",
        "  from google.colab import drive\n",
        "  drive.mount('/content/drive')\n",
        "  IMG_PATH = '/content/drive/MyDrive/JHU/DNN/FinalProject'\n",
        "else:\n",
        "  IMG_PATH= '.'"
      ],
      "execution_count": 2,
      "outputs": [
        {
          "output_type": "stream",
          "name": "stdout",
          "text": [
            "Mounted at /content/drive\n"
          ]
        }
      ]
    },
    {
      "cell_type": "code",
      "metadata": {
        "id": "yDVIT00A_fnJ"
      },
      "source": [
        "TEST_IMAGES = f'{IMG_PATH}/Test_Images'"
      ],
      "execution_count": 3,
      "outputs": []
    },
    {
      "cell_type": "code",
      "metadata": {
        "id": "fZmwKUrj_lVL"
      },
      "source": [
        "WEIGHTS = f'{IMG_PATH}/best.pt'"
      ],
      "execution_count": 4,
      "outputs": []
    },
    {
      "cell_type": "markdown",
      "metadata": {
        "id": "qVAcTXJc_BAh"
      },
      "source": [
        "Start timer"
      ]
    },
    {
      "cell_type": "code",
      "metadata": {
        "id": "PVhVRjCTRQbF"
      },
      "source": [
        "import time\n",
        "\n",
        "t0 = time.time()"
      ],
      "execution_count": 5,
      "outputs": []
    },
    {
      "cell_type": "markdown",
      "metadata": {
        "id": "t_VrAkCg_DGH"
      },
      "source": [
        "# !!TODO: you don't have to do this if you aren't using colab and your images are in a different directory!!\n",
        "Copy test images from google drive to colab storage for speed:\n",
        "\n",
        "Takes about 3 mins"
      ]
    },
    {
      "cell_type": "code",
      "metadata": {
        "id": "d8nNGHb4_CzY"
      },
      "source": [
        "! cp -r {TEST_IMAGES} /content"
      ],
      "execution_count": 6,
      "outputs": []
    },
    {
      "cell_type": "markdown",
      "metadata": {
        "id": "_dXVmyxyAjab"
      },
      "source": [
        "# **TODO:** CHANGE `TEST_IMAGES` if your test directories are somewhere else"
      ]
    },
    {
      "cell_type": "code",
      "metadata": {
        "id": "-mwbtMZuAq3e"
      },
      "source": [
        "TEST_IMAGES_LOCAL = '/content/Test_Images'"
      ],
      "execution_count": 7,
      "outputs": []
    },
    {
      "cell_type": "markdown",
      "metadata": {
        "id": "sOUMUmVR15ip"
      },
      "source": [
        "Inference"
      ]
    },
    {
      "cell_type": "markdown",
      "metadata": {
        "id": "2uRe8kOk3fsv"
      },
      "source": [
        "https://github.com/ultralytics/yolov5#quick-start-examples"
      ]
    },
    {
      "cell_type": "code",
      "metadata": {
        "colab": {
          "base_uri": "https://localhost:8080/"
        },
        "id": "j4oj41n215R5",
        "outputId": "31e5fdfb-e7c7-4fb6-f187-cd3e674209b8"
      },
      "source": [
        "!git clone https://github.com/ultralytics/yolov5\n",
        "%cd yolov5\n",
        "!pip install -r requirements.txt\n"
      ],
      "execution_count": 8,
      "outputs": [
        {
          "output_type": "stream",
          "name": "stdout",
          "text": [
            "Cloning into 'yolov5'...\n",
            "remote: Enumerating objects: 9848, done.\u001b[K\n",
            "remote: Total 9848 (delta 0), reused 0 (delta 0), pack-reused 9848\u001b[K\n",
            "Receiving objects: 100% (9848/9848), 10.22 MiB | 28.50 MiB/s, done.\n",
            "Resolving deltas: 100% (6819/6819), done.\n",
            "/content/yolov5\n",
            "Requirement already satisfied: matplotlib>=3.2.2 in /usr/local/lib/python3.7/dist-packages (from -r requirements.txt (line 4)) (3.2.2)\n",
            "Requirement already satisfied: numpy>=1.18.5 in /usr/local/lib/python3.7/dist-packages (from -r requirements.txt (line 5)) (1.19.5)\n",
            "Requirement already satisfied: opencv-python>=4.1.2 in /usr/local/lib/python3.7/dist-packages (from -r requirements.txt (line 6)) (4.1.2.30)\n",
            "Requirement already satisfied: Pillow>=7.1.2 in /usr/local/lib/python3.7/dist-packages (from -r requirements.txt (line 7)) (7.1.2)\n",
            "Collecting PyYAML>=5.3.1\n",
            "  Downloading PyYAML-6.0-cp37-cp37m-manylinux_2_5_x86_64.manylinux1_x86_64.manylinux_2_12_x86_64.manylinux2010_x86_64.whl (596 kB)\n",
            "\u001b[K     |████████████████████████████████| 596 kB 5.0 MB/s \n",
            "\u001b[?25hRequirement already satisfied: requests>=2.23.0 in /usr/local/lib/python3.7/dist-packages (from -r requirements.txt (line 9)) (2.23.0)\n",
            "Requirement already satisfied: scipy>=1.4.1 in /usr/local/lib/python3.7/dist-packages (from -r requirements.txt (line 10)) (1.4.1)\n",
            "Requirement already satisfied: torch>=1.7.0 in /usr/local/lib/python3.7/dist-packages (from -r requirements.txt (line 11)) (1.9.0+cu111)\n",
            "Requirement already satisfied: torchvision>=0.8.1 in /usr/local/lib/python3.7/dist-packages (from -r requirements.txt (line 12)) (0.10.0+cu111)\n",
            "Requirement already satisfied: tqdm>=4.41.0 in /usr/local/lib/python3.7/dist-packages (from -r requirements.txt (line 13)) (4.62.3)\n",
            "Requirement already satisfied: tensorboard>=2.4.1 in /usr/local/lib/python3.7/dist-packages (from -r requirements.txt (line 16)) (2.6.0)\n",
            "Requirement already satisfied: pandas>=1.1.4 in /usr/local/lib/python3.7/dist-packages (from -r requirements.txt (line 20)) (1.1.5)\n",
            "Requirement already satisfied: seaborn>=0.11.0 in /usr/local/lib/python3.7/dist-packages (from -r requirements.txt (line 21)) (0.11.2)\n",
            "Collecting thop\n",
            "  Downloading thop-0.0.31.post2005241907-py3-none-any.whl (8.7 kB)\n",
            "Requirement already satisfied: cycler>=0.10 in /usr/local/lib/python3.7/dist-packages (from matplotlib>=3.2.2->-r requirements.txt (line 4)) (0.10.0)\n",
            "Requirement already satisfied: pyparsing!=2.0.4,!=2.1.2,!=2.1.6,>=2.0.1 in /usr/local/lib/python3.7/dist-packages (from matplotlib>=3.2.2->-r requirements.txt (line 4)) (2.4.7)\n",
            "Requirement already satisfied: kiwisolver>=1.0.1 in /usr/local/lib/python3.7/dist-packages (from matplotlib>=3.2.2->-r requirements.txt (line 4)) (1.3.2)\n",
            "Requirement already satisfied: python-dateutil>=2.1 in /usr/local/lib/python3.7/dist-packages (from matplotlib>=3.2.2->-r requirements.txt (line 4)) (2.8.2)\n",
            "Requirement already satisfied: certifi>=2017.4.17 in /usr/local/lib/python3.7/dist-packages (from requests>=2.23.0->-r requirements.txt (line 9)) (2021.5.30)\n",
            "Requirement already satisfied: idna<3,>=2.5 in /usr/local/lib/python3.7/dist-packages (from requests>=2.23.0->-r requirements.txt (line 9)) (2.10)\n",
            "Requirement already satisfied: chardet<4,>=3.0.2 in /usr/local/lib/python3.7/dist-packages (from requests>=2.23.0->-r requirements.txt (line 9)) (3.0.4)\n",
            "Requirement already satisfied: urllib3!=1.25.0,!=1.25.1,<1.26,>=1.21.1 in /usr/local/lib/python3.7/dist-packages (from requests>=2.23.0->-r requirements.txt (line 9)) (1.24.3)\n",
            "Requirement already satisfied: typing-extensions in /usr/local/lib/python3.7/dist-packages (from torch>=1.7.0->-r requirements.txt (line 11)) (3.7.4.3)\n",
            "Requirement already satisfied: werkzeug>=0.11.15 in /usr/local/lib/python3.7/dist-packages (from tensorboard>=2.4.1->-r requirements.txt (line 16)) (1.0.1)\n",
            "Requirement already satisfied: absl-py>=0.4 in /usr/local/lib/python3.7/dist-packages (from tensorboard>=2.4.1->-r requirements.txt (line 16)) (0.12.0)\n",
            "Requirement already satisfied: setuptools>=41.0.0 in /usr/local/lib/python3.7/dist-packages (from tensorboard>=2.4.1->-r requirements.txt (line 16)) (57.4.0)\n",
            "Requirement already satisfied: markdown>=2.6.8 in /usr/local/lib/python3.7/dist-packages (from tensorboard>=2.4.1->-r requirements.txt (line 16)) (3.3.4)\n",
            "Requirement already satisfied: protobuf>=3.6.0 in /usr/local/lib/python3.7/dist-packages (from tensorboard>=2.4.1->-r requirements.txt (line 16)) (3.17.3)\n",
            "Requirement already satisfied: grpcio>=1.24.3 in /usr/local/lib/python3.7/dist-packages (from tensorboard>=2.4.1->-r requirements.txt (line 16)) (1.41.0)\n",
            "Requirement already satisfied: google-auth-oauthlib<0.5,>=0.4.1 in /usr/local/lib/python3.7/dist-packages (from tensorboard>=2.4.1->-r requirements.txt (line 16)) (0.4.6)\n",
            "Requirement already satisfied: tensorboard-plugin-wit>=1.6.0 in /usr/local/lib/python3.7/dist-packages (from tensorboard>=2.4.1->-r requirements.txt (line 16)) (1.8.0)\n",
            "Requirement already satisfied: tensorboard-data-server<0.7.0,>=0.6.0 in /usr/local/lib/python3.7/dist-packages (from tensorboard>=2.4.1->-r requirements.txt (line 16)) (0.6.1)\n",
            "Requirement already satisfied: google-auth<2,>=1.6.3 in /usr/local/lib/python3.7/dist-packages (from tensorboard>=2.4.1->-r requirements.txt (line 16)) (1.35.0)\n",
            "Requirement already satisfied: wheel>=0.26 in /usr/local/lib/python3.7/dist-packages (from tensorboard>=2.4.1->-r requirements.txt (line 16)) (0.37.0)\n",
            "Requirement already satisfied: pytz>=2017.2 in /usr/local/lib/python3.7/dist-packages (from pandas>=1.1.4->-r requirements.txt (line 20)) (2018.9)\n",
            "Requirement already satisfied: six in /usr/local/lib/python3.7/dist-packages (from absl-py>=0.4->tensorboard>=2.4.1->-r requirements.txt (line 16)) (1.15.0)\n",
            "Requirement already satisfied: cachetools<5.0,>=2.0.0 in /usr/local/lib/python3.7/dist-packages (from google-auth<2,>=1.6.3->tensorboard>=2.4.1->-r requirements.txt (line 16)) (4.2.4)\n",
            "Requirement already satisfied: rsa<5,>=3.1.4 in /usr/local/lib/python3.7/dist-packages (from google-auth<2,>=1.6.3->tensorboard>=2.4.1->-r requirements.txt (line 16)) (4.7.2)\n",
            "Requirement already satisfied: pyasn1-modules>=0.2.1 in /usr/local/lib/python3.7/dist-packages (from google-auth<2,>=1.6.3->tensorboard>=2.4.1->-r requirements.txt (line 16)) (0.2.8)\n",
            "Requirement already satisfied: requests-oauthlib>=0.7.0 in /usr/local/lib/python3.7/dist-packages (from google-auth-oauthlib<0.5,>=0.4.1->tensorboard>=2.4.1->-r requirements.txt (line 16)) (1.3.0)\n",
            "Requirement already satisfied: importlib-metadata in /usr/local/lib/python3.7/dist-packages (from markdown>=2.6.8->tensorboard>=2.4.1->-r requirements.txt (line 16)) (4.8.1)\n",
            "Requirement already satisfied: pyasn1<0.5.0,>=0.4.6 in /usr/local/lib/python3.7/dist-packages (from pyasn1-modules>=0.2.1->google-auth<2,>=1.6.3->tensorboard>=2.4.1->-r requirements.txt (line 16)) (0.4.8)\n",
            "Requirement already satisfied: oauthlib>=3.0.0 in /usr/local/lib/python3.7/dist-packages (from requests-oauthlib>=0.7.0->google-auth-oauthlib<0.5,>=0.4.1->tensorboard>=2.4.1->-r requirements.txt (line 16)) (3.1.1)\n",
            "Requirement already satisfied: zipp>=0.5 in /usr/local/lib/python3.7/dist-packages (from importlib-metadata->markdown>=2.6.8->tensorboard>=2.4.1->-r requirements.txt (line 16)) (3.6.0)\n",
            "Installing collected packages: thop, PyYAML\n",
            "  Attempting uninstall: PyYAML\n",
            "    Found existing installation: PyYAML 3.13\n",
            "    Uninstalling PyYAML-3.13:\n",
            "      Successfully uninstalled PyYAML-3.13\n",
            "Successfully installed PyYAML-6.0 thop-0.0.31.post2005241907\n"
          ]
        }
      ]
    },
    {
      "cell_type": "markdown",
      "metadata": {
        "id": "dI8PP-QhAQgp"
      },
      "source": [
        "Perform inference"
      ]
    },
    {
      "cell_type": "code",
      "metadata": {
        "colab": {
          "base_uri": "https://localhost:8080/"
        },
        "id": "qIl13GXh2A6E",
        "outputId": "57c02328-42aa-41eb-9ee5-850bbb48350c"
      },
      "source": [
        "! python detect.py --source {TEST_IMAGES_LOCAL} --weights {WEIGHTS} --save-txt --save-conf"
      ],
      "execution_count": null,
      "outputs": [
        {
          "output_type": "stream",
          "name": "stdout",
          "text": [
            "\u001b[34m\u001b[1mdetect: \u001b[0mweights=['/content/drive/MyDrive/JHU/DNN/FinalProject/best.pt'], source=/content/Test_Images, imgsz=[640, 640], conf_thres=0.25, iou_thres=0.45, max_det=1000, device=, view_img=False, save_txt=True, save_conf=True, save_crop=False, nosave=False, classes=None, agnostic_nms=False, augment=False, visualize=False, update=False, project=runs/detect, name=exp, exist_ok=False, line_thickness=3, hide_labels=False, hide_conf=False, half=False, dnn=False\n",
            "YOLOv5 🚀 v6.0-39-g5d4258f torch 1.9.0+cu111 CPU\n",
            "\n",
            "Fusing layers... \n",
            "Model Summary: 444 layers, 86186872 parameters, 0 gradients, 204.0 GFLOPs\n",
            "image 1/931 /content/Test_Images/ID_0082Y2NI.jpg: 640x640 1 fruit_woodiness, Done. (3.764s)\n",
            "image 2/931 /content/Test_Images/ID_00DCPV52.jpg: 640x640 1 fruit_brownspot, Done. (3.694s)\n",
            "image 3/931 /content/Test_Images/ID_038S0ONN.jpg: 640x640 1 fruit_healthy, Done. (3.647s)\n",
            "image 4/931 /content/Test_Images/ID_03A7SMD5.jpg: 640x640 3 fruit_woodinesss, 1 fruit_brownspot, Done. (3.640s)\n",
            "image 5/931 /content/Test_Images/ID_03T232AG.jpg: 640x640 1 fruit_woodiness, Done. (3.681s)\n",
            "image 6/931 /content/Test_Images/ID_04ECR2KB.jpg: 640x640 Done. (3.672s)\n",
            "image 7/931 /content/Test_Images/ID_05V1RQ12.jpg: 640x640 2 fruit_healthys, Done. (3.664s)\n",
            "image 8/931 /content/Test_Images/ID_089T8YUN.jpg: 640x640 1 fruit_healthy, Done. (3.658s)\n",
            "image 9/931 /content/Test_Images/ID_09FSGMD6.jpg: 640x640 1 fruit_healthy, Done. (3.652s)\n",
            "image 10/931 /content/Test_Images/ID_0CH7ECW6.jpg: 640x640 2 fruit_healthys, Done. (3.637s)\n",
            "image 11/931 /content/Test_Images/ID_0F19ABF5.jpg: 640x640 2 fruit_brownspots, Done. (3.660s)\n",
            "image 12/931 /content/Test_Images/ID_0IIZW98W.jpg: 640x640 2 fruit_woodinesss, Done. (3.677s)\n",
            "image 13/931 /content/Test_Images/ID_0JLNSEJP.jpg: 640x640 1 fruit_woodiness, Done. (3.655s)\n",
            "image 14/931 /content/Test_Images/ID_0KU97RO6.jpg: 640x640 1 fruit_brownspot, Done. (3.703s)\n",
            "image 15/931 /content/Test_Images/ID_0LPMR58V.jpg: 640x640 1 fruit_healthy, Done. (3.681s)\n",
            "image 16/931 /content/Test_Images/ID_0NIAXXSP.jpg: 640x640 1 fruit_woodiness, Done. (3.641s)\n",
            "image 17/931 /content/Test_Images/ID_0RT72J5B.jpg: 640x640 1 fruit_brownspot, Done. (3.677s)\n",
            "image 18/931 /content/Test_Images/ID_0RYLY9N7.jpg: 640x640 1 fruit_woodiness, Done. (3.654s)\n",
            "image 19/931 /content/Test_Images/ID_0VF76RFT.jpg: 640x640 1 fruit_woodiness, Done. (3.637s)\n",
            "image 20/931 /content/Test_Images/ID_0VVJW3VX.jpg: 640x640 2 fruit_healthys, Done. (3.643s)\n",
            "image 21/931 /content/Test_Images/ID_0WHIP8CQ.jpg: 640x640 1 fruit_woodiness, 1 fruit_brownspot, Done. (3.645s)\n",
            "image 22/931 /content/Test_Images/ID_0Y72OOE7.jpg: 640x640 1 fruit_healthy, Done. (3.672s)\n",
            "image 23/931 /content/Test_Images/ID_1219VLG1.jpg: 640x640 2 fruit_woodinesss, Done. (3.659s)\n",
            "image 24/931 /content/Test_Images/ID_12APOOMP.jpg: 640x640 1 fruit_healthy, Done. (3.661s)\n"
          ]
        }
      ]
    },
    {
      "cell_type": "markdown",
      "metadata": {
        "id": "JCSHi_cs-6v4"
      },
      "source": [
        "# TODO: Adjust files to Zindi format"
      ]
    },
    {
      "cell_type": "code",
      "metadata": {
        "colab": {
          "base_uri": "https://localhost:8080/"
        },
        "id": "acw1TM7O-Wcq",
        "outputId": "ca7c22a9-61c9-4769-c021-618fea23a415"
      },
      "source": [
        "tend = time.time()\n",
        "print('Elapsed time: ', (tend-t0)/60, ' minutes')"
      ],
      "execution_count": 10,
      "outputs": [
        {
          "output_type": "stream",
          "name": "stdout",
          "text": [
            "Elapsed time:  3.6669071276982623  minutes\n"
          ]
        }
      ]
    }
  ]
}