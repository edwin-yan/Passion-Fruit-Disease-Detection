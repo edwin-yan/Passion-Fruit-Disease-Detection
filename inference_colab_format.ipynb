{
  "nbformat": 4,
  "nbformat_minor": 0,
  "metadata": {
    "colab": {
      "name": "inference_colab_format.ipynb",
      "provenance": [],
      "authorship_tag": "ABX9TyPpGXWo0CYO0pvbEZ5INMy7",
      "include_colab_link": true
    },
    "kernelspec": {
      "display_name": "Python 3",
      "name": "python3"
    },
    "language_info": {
      "name": "python"
    }
  },
  "cells": [
    {
      "cell_type": "markdown",
      "metadata": {
        "id": "view-in-github",
        "colab_type": "text"
      },
      "source": [
        "<a href=\"https://colab.research.google.com/github/edwin-yan/Passion-Fruit-Disease-Detection/blob/andrew/inference_colab_format.ipynb\" target=\"_parent\"><img src=\"https://colab.research.google.com/assets/colab-badge.svg\" alt=\"Open In Colab\"/></a>"
      ]
    },
    {
      "cell_type": "code",
      "metadata": {
        "colab": {
          "base_uri": "https://localhost:8080/"
        },
        "id": "U5B1lePp4eAS",
        "outputId": "35ce8af2-a883-4621-b654-8de3749d08aa"
      },
      "source": [
        "from google.colab import drive\n",
        "drive.mount('/content/drive')\n",
        "IMG_PATH = '/content/drive/MyDrive/JHU/DNN/FinalProject'"
      ],
      "execution_count": 54,
      "outputs": [
        {
          "output_type": "stream",
          "name": "stdout",
          "text": [
            "Drive already mounted at /content/drive; to attempt to forcibly remount, call drive.mount(\"/content/drive\", force_remount=True).\n"
          ]
        }
      ]
    },
    {
      "cell_type": "code",
      "metadata": {
        "id": "nP11ZdjT7C0d"
      },
      "source": [
        "category_index = {0: {'id': 0, 'name': 'fruit_healthy'},\n",
        "                1: {'id': 1, 'name': 'fruit_woodiness'},\n",
        "                 2: {'id': 3, 'name': 'fruit_brownspot'}}"
      ],
      "execution_count": 55,
      "outputs": []
    },
    {
      "cell_type": "markdown",
      "metadata": {
        "id": "WwLPsrQa7vV2"
      },
      "source": [
        "Read from txt file: https://stackoverflow.com/questions/21546739/load-data-from-txt-with-pandas"
      ]
    },
    {
      "cell_type": "code",
      "metadata": {
        "id": "vul9cZCq4rvk"
      },
      "source": [
        "import os\n",
        "import pandas as pd\n",
        "path = f'{IMG_PATH}/labels/'\n",
        "filelist = os.listdir(path) \n",
        "df_write = pd.DataFrame(columns = ['Image_ID', 'class', 'confidence', 'ymin','xmin','ymax','xmax'])\n",
        "\n",
        "for file in filelist:\n",
        "  data = pd.read_csv(path+file, sep=\" \", header=None)\n",
        "  data = data.rename(columns={0:'class',1:'x',2:'y',3:'w',4:'h',5:'confidence'})\n",
        "  data['class'] = data['class'].apply(lambda x: category_index[x]['name'])\n",
        "  data['ymin'] = (data['y']-data['h']/2)*512\n",
        "  data['xmin'] = (data['x']-data['w']/2)*512\n",
        "  data['ymax'] = (data['y']+data['h']/2)*512\n",
        "  data['xmax'] = (data['x']+data['w']/2)*512\n",
        "  data['Image_ID'] = file.split('.')[0]\n",
        "\n",
        "  cols = ['Image_ID','class','confidence','ymin',\t'xmin',\t'ymax',\t'xmax']\n",
        "  data = data[cols]\n",
        "\n",
        "  df_write = df_write.append(data.nlargest(4, 'confidence'))\n"
      ],
      "execution_count": 56,
      "outputs": []
    },
    {
      "cell_type": "code",
      "metadata": {
        "colab": {
          "base_uri": "https://localhost:8080/",
          "height": 415
        },
        "id": "ePdJmq3kmaKs",
        "outputId": "ef1ec702-d128-4c54-b653-dd21197aeb0e"
      },
      "source": [
        "df_write"
      ],
      "execution_count": 61,
      "outputs": [
        {
          "output_type": "execute_result",
          "data": {
            "text/html": [
              "<div>\n",
              "<style scoped>\n",
              "    .dataframe tbody tr th:only-of-type {\n",
              "        vertical-align: middle;\n",
              "    }\n",
              "\n",
              "    .dataframe tbody tr th {\n",
              "        vertical-align: top;\n",
              "    }\n",
              "\n",
              "    .dataframe thead th {\n",
              "        text-align: right;\n",
              "    }\n",
              "</style>\n",
              "<table border=\"1\" class=\"dataframe\">\n",
              "  <thead>\n",
              "    <tr style=\"text-align: right;\">\n",
              "      <th></th>\n",
              "      <th>Image_ID</th>\n",
              "      <th>class</th>\n",
              "      <th>confidence</th>\n",
              "      <th>ymin</th>\n",
              "      <th>xmin</th>\n",
              "      <th>ymax</th>\n",
              "      <th>xmax</th>\n",
              "    </tr>\n",
              "  </thead>\n",
              "  <tbody>\n",
              "    <tr>\n",
              "      <th>0</th>\n",
              "      <td>ID_0082Y2NI</td>\n",
              "      <td>fruit_woodiness</td>\n",
              "      <td>0.961983</td>\n",
              "      <td>74.000128</td>\n",
              "      <td>188.999680</td>\n",
              "      <td>322.000128</td>\n",
              "      <td>360.999936</td>\n",
              "    </tr>\n",
              "    <tr>\n",
              "      <th>0</th>\n",
              "      <td>ID_00DCPV52</td>\n",
              "      <td>fruit_brownspot</td>\n",
              "      <td>0.615813</td>\n",
              "      <td>175.000064</td>\n",
              "      <td>52.000000</td>\n",
              "      <td>365.000192</td>\n",
              "      <td>378.000128</td>\n",
              "    </tr>\n",
              "    <tr>\n",
              "      <th>0</th>\n",
              "      <td>ID_038S0ONN</td>\n",
              "      <td>fruit_healthy</td>\n",
              "      <td>0.952456</td>\n",
              "      <td>201.999872</td>\n",
              "      <td>171.000320</td>\n",
              "      <td>338.999808</td>\n",
              "      <td>342.000128</td>\n",
              "    </tr>\n",
              "    <tr>\n",
              "      <th>3</th>\n",
              "      <td>ID_03A7SMD5</td>\n",
              "      <td>fruit_woodiness</td>\n",
              "      <td>0.932024</td>\n",
              "      <td>112.000256</td>\n",
              "      <td>116.000000</td>\n",
              "      <td>323.000064</td>\n",
              "      <td>289.000192</td>\n",
              "    </tr>\n",
              "    <tr>\n",
              "      <th>2</th>\n",
              "      <td>ID_03A7SMD5</td>\n",
              "      <td>fruit_brownspot</td>\n",
              "      <td>0.621040</td>\n",
              "      <td>346.000128</td>\n",
              "      <td>293.999872</td>\n",
              "      <td>512.000256</td>\n",
              "      <td>451.000064</td>\n",
              "    </tr>\n",
              "    <tr>\n",
              "      <th>...</th>\n",
              "      <td>...</td>\n",
              "      <td>...</td>\n",
              "      <td>...</td>\n",
              "      <td>...</td>\n",
              "      <td>...</td>\n",
              "      <td>...</td>\n",
              "      <td>...</td>\n",
              "    </tr>\n",
              "    <tr>\n",
              "      <th>0</th>\n",
              "      <td>ID_ZTYLLT5K</td>\n",
              "      <td>fruit_healthy</td>\n",
              "      <td>0.940565</td>\n",
              "      <td>117.999872</td>\n",
              "      <td>4.999936</td>\n",
              "      <td>420.999936</td>\n",
              "      <td>407.999744</td>\n",
              "    </tr>\n",
              "    <tr>\n",
              "      <th>0</th>\n",
              "      <td>ID_ZXJWMN4C</td>\n",
              "      <td>fruit_woodiness</td>\n",
              "      <td>0.813998</td>\n",
              "      <td>48.999936</td>\n",
              "      <td>72.999936</td>\n",
              "      <td>445.000192</td>\n",
              "      <td>412.999680</td>\n",
              "    </tr>\n",
              "    <tr>\n",
              "      <th>0</th>\n",
              "      <td>ID_ZZ4JDA0O</td>\n",
              "      <td>fruit_brownspot</td>\n",
              "      <td>0.929645</td>\n",
              "      <td>209.999872</td>\n",
              "      <td>100.999936</td>\n",
              "      <td>392.999936</td>\n",
              "      <td>420.000000</td>\n",
              "    </tr>\n",
              "    <tr>\n",
              "      <th>0</th>\n",
              "      <td>ID_ZZI6IV38</td>\n",
              "      <td>fruit_healthy</td>\n",
              "      <td>0.966730</td>\n",
              "      <td>164.999936</td>\n",
              "      <td>77.999616</td>\n",
              "      <td>354.000128</td>\n",
              "      <td>313.999872</td>\n",
              "    </tr>\n",
              "    <tr>\n",
              "      <th>0</th>\n",
              "      <td>ID_ZZUQRVHG</td>\n",
              "      <td>fruit_healthy</td>\n",
              "      <td>0.975776</td>\n",
              "      <td>165.000192</td>\n",
              "      <td>99.999744</td>\n",
              "      <td>373.000192</td>\n",
              "      <td>346.999808</td>\n",
              "    </tr>\n",
              "  </tbody>\n",
              "</table>\n",
              "<p>1281 rows × 7 columns</p>\n",
              "</div>"
            ],
            "text/plain": [
              "       Image_ID            class  ...        ymax        xmax\n",
              "0   ID_0082Y2NI  fruit_woodiness  ...  322.000128  360.999936\n",
              "0   ID_00DCPV52  fruit_brownspot  ...  365.000192  378.000128\n",
              "0   ID_038S0ONN    fruit_healthy  ...  338.999808  342.000128\n",
              "3   ID_03A7SMD5  fruit_woodiness  ...  323.000064  289.000192\n",
              "2   ID_03A7SMD5  fruit_brownspot  ...  512.000256  451.000064\n",
              "..          ...              ...  ...         ...         ...\n",
              "0   ID_ZTYLLT5K    fruit_healthy  ...  420.999936  407.999744\n",
              "0   ID_ZXJWMN4C  fruit_woodiness  ...  445.000192  412.999680\n",
              "0   ID_ZZ4JDA0O  fruit_brownspot  ...  392.999936  420.000000\n",
              "0   ID_ZZI6IV38    fruit_healthy  ...  354.000128  313.999872\n",
              "0   ID_ZZUQRVHG    fruit_healthy  ...  373.000192  346.999808\n",
              "\n",
              "[1281 rows x 7 columns]"
            ]
          },
          "metadata": {},
          "execution_count": 61
        }
      ]
    },
    {
      "cell_type": "code",
      "metadata": {
        "id": "5Q8MDhyFmY5j"
      },
      "source": [
        "df_write.to_csv('/content/drive/MyDrive/JHU/DNN/FinalProject/submission_yolo_unnormalized_top4.csv', encoding='utf-8', index=False)"
      ],
      "execution_count": 62,
      "outputs": []
    },
    {
      "cell_type": "markdown",
      "metadata": {
        "id": "USsIVUT7mYZq"
      },
      "source": [
        ""
      ]
    },
    {
      "cell_type": "markdown",
      "metadata": {
        "id": "v5caoowbhwJU"
      },
      "source": [
        "get top 4 https://stackoverflow.com/questions/43859416/finding-top-10-in-a-dataframe-in-pandas"
      ]
    },
    {
      "cell_type": "code",
      "metadata": {
        "id": "QjwUp6N3hPo9"
      },
      "source": [
        ""
      ],
      "execution_count": 56,
      "outputs": []
    },
    {
      "cell_type": "markdown",
      "metadata": {
        "id": "snTQiHwbAVIO"
      },
      "source": [
        "Reorder cols:\n",
        " https://stackoverflow.com/questions/13148429/how-to-change-the-order-of-dataframe-columns"
      ]
    },
    {
      "cell_type": "code",
      "metadata": {
        "colab": {
          "base_uri": "https://localhost:8080/",
          "height": 79
        },
        "id": "Nr3WBGAJDVq6",
        "outputId": "53c302c1-288e-4b84-e758-39d2f82c8c33"
      },
      "source": [
        "data"
      ],
      "execution_count": 57,
      "outputs": [
        {
          "output_type": "execute_result",
          "data": {
            "text/html": [
              "<div>\n",
              "<style scoped>\n",
              "    .dataframe tbody tr th:only-of-type {\n",
              "        vertical-align: middle;\n",
              "    }\n",
              "\n",
              "    .dataframe tbody tr th {\n",
              "        vertical-align: top;\n",
              "    }\n",
              "\n",
              "    .dataframe thead th {\n",
              "        text-align: right;\n",
              "    }\n",
              "</style>\n",
              "<table border=\"1\" class=\"dataframe\">\n",
              "  <thead>\n",
              "    <tr style=\"text-align: right;\">\n",
              "      <th></th>\n",
              "      <th>Image_ID</th>\n",
              "      <th>class</th>\n",
              "      <th>confidence</th>\n",
              "      <th>ymin</th>\n",
              "      <th>xmin</th>\n",
              "      <th>ymax</th>\n",
              "      <th>xmax</th>\n",
              "    </tr>\n",
              "  </thead>\n",
              "  <tbody>\n",
              "    <tr>\n",
              "      <th>0</th>\n",
              "      <td>ID_ZZUQRVHG</td>\n",
              "      <td>fruit_healthy</td>\n",
              "      <td>0.975776</td>\n",
              "      <td>165.000192</td>\n",
              "      <td>99.999744</td>\n",
              "      <td>373.000192</td>\n",
              "      <td>346.999808</td>\n",
              "    </tr>\n",
              "  </tbody>\n",
              "</table>\n",
              "</div>"
            ],
            "text/plain": [
              "      Image_ID          class  confidence  ...       xmin        ymax        xmax\n",
              "0  ID_ZZUQRVHG  fruit_healthy    0.975776  ...  99.999744  373.000192  346.999808\n",
              "\n",
              "[1 rows x 7 columns]"
            ]
          },
          "metadata": {},
          "execution_count": 57
        }
      ]
    },
    {
      "cell_type": "code",
      "metadata": {
        "id": "VUoOxxoefhl_"
      },
      "source": [
        "cols = ['Image_ID','class','confidence','ymin',\t'xmin',\t'ymax',\t'xmax'\t]"
      ],
      "execution_count": 58,
      "outputs": []
    },
    {
      "cell_type": "code",
      "metadata": {
        "id": "ak9k4qJADWos"
      },
      "source": [
        "data = data[cols]"
      ],
      "execution_count": 59,
      "outputs": []
    },
    {
      "cell_type": "code",
      "metadata": {
        "colab": {
          "base_uri": "https://localhost:8080/",
          "height": 79
        },
        "id": "jeZmL5fOfxol",
        "outputId": "def15b79-cdd8-4a08-8a44-28b69ef6b305"
      },
      "source": [
        "data"
      ],
      "execution_count": 60,
      "outputs": [
        {
          "output_type": "execute_result",
          "data": {
            "text/html": [
              "<div>\n",
              "<style scoped>\n",
              "    .dataframe tbody tr th:only-of-type {\n",
              "        vertical-align: middle;\n",
              "    }\n",
              "\n",
              "    .dataframe tbody tr th {\n",
              "        vertical-align: top;\n",
              "    }\n",
              "\n",
              "    .dataframe thead th {\n",
              "        text-align: right;\n",
              "    }\n",
              "</style>\n",
              "<table border=\"1\" class=\"dataframe\">\n",
              "  <thead>\n",
              "    <tr style=\"text-align: right;\">\n",
              "      <th></th>\n",
              "      <th>Image_ID</th>\n",
              "      <th>class</th>\n",
              "      <th>confidence</th>\n",
              "      <th>ymin</th>\n",
              "      <th>xmin</th>\n",
              "      <th>ymax</th>\n",
              "      <th>xmax</th>\n",
              "    </tr>\n",
              "  </thead>\n",
              "  <tbody>\n",
              "    <tr>\n",
              "      <th>0</th>\n",
              "      <td>ID_ZZUQRVHG</td>\n",
              "      <td>fruit_healthy</td>\n",
              "      <td>0.975776</td>\n",
              "      <td>165.000192</td>\n",
              "      <td>99.999744</td>\n",
              "      <td>373.000192</td>\n",
              "      <td>346.999808</td>\n",
              "    </tr>\n",
              "  </tbody>\n",
              "</table>\n",
              "</div>"
            ],
            "text/plain": [
              "      Image_ID          class  confidence  ...       xmin        ymax        xmax\n",
              "0  ID_ZZUQRVHG  fruit_healthy    0.975776  ...  99.999744  373.000192  346.999808\n",
              "\n",
              "[1 rows x 7 columns]"
            ]
          },
          "metadata": {},
          "execution_count": 60
        }
      ]
    },
    {
      "cell_type": "code",
      "metadata": {
        "id": "BsaenD23fyCx"
      },
      "source": [
        ""
      ],
      "execution_count": 60,
      "outputs": []
    }
  ]
}