{
  "nbformat": 4,
  "nbformat_minor": 0,
  "metadata": {
    "kernelspec": {
      "display_name": "Python 3",
      "language": "python",
      "name": "python3"
    },
    "language_info": {
      "codemirror_mode": {
        "name": "ipython",
        "version": 3
      },
      "file_extension": ".py",
      "mimetype": "text/x-python",
      "name": "python",
      "nbconvert_exporter": "python",
      "pygments_lexer": "ipython3",
      "version": "3.8.5"
    },
    "colab": {
      "name": "Image_Augmentation_colab.ipynb",
      "provenance": [],
      "collapsed_sections": [],
      "include_colab_link": true
    }
  },
  "cells": [
    {
      "cell_type": "markdown",
      "metadata": {
        "id": "view-in-github",
        "colab_type": "text"
      },
      "source": [
        "<a href=\"https://colab.research.google.com/github/edwin-yan/Passion-Fruit-Disease-Detection/blob/andrew/Image_Augmentation_colab.ipynb\" target=\"_parent\"><img src=\"https://colab.research.google.com/assets/colab-badge.svg\" alt=\"Open In Colab\"/></a>"
      ]
    },
    {
      "cell_type": "markdown",
      "metadata": {
        "id": "OR6eeuKvWFV5"
      },
      "source": [
        "# Image Augmentation\n",
        "\n",
        "Using this library to do image augmentation\n",
        "https://towardsdatascience.com/tensorflow-and-image-augmentation-3610c6c243a2"
      ]
    },
    {
      "cell_type": "markdown",
      "metadata": {
        "id": "_cPinh_su0S3"
      },
      "source": [
        "# SET UP\n",
        "## Mounting\n",
        "\n",
        "Note that this assumes that your google drive folder has the same document layout. You must modify if that is not the case.\n",
        "\n",
        "\n",
        "From your root Google Drive directory create a couple of folders:\n",
        "* `JHU/DNN/FinalProject/Train_Images`\n",
        "* `JHU/DNN/FinalProject/Test_Images` \n",
        "\n",
        "with Train and test images unzipped in those directories\n",
        "\n"
      ]
    },
    {
      "cell_type": "markdown",
      "metadata": {
        "id": "tRoyDIQtpR6Y"
      },
      "source": [
        "# **TODO:** GLOBAL VARIABLE set to `True` if using colab and `False` if not!"
      ]
    },
    {
      "cell_type": "code",
      "metadata": {
        "id": "a9XybEmrpU_7"
      },
      "source": [
        "IS_COLAB = True "
      ],
      "execution_count": 1,
      "outputs": []
    },
    {
      "cell_type": "markdown",
      "metadata": {
        "id": "iQ8qkfLuJRrb"
      },
      "source": [
        "# **TODO:** CHANGE `IMG_DIR` if your google drive directory is different"
      ]
    },
    {
      "cell_type": "code",
      "metadata": {
        "id": "xxrO_DraRknb",
        "colab": {
          "base_uri": "https://localhost:8080/"
        },
        "outputId": "67f6c5e8-72cf-47a3-80ee-8b73e6cc0902"
      },
      "source": [
        "if IS_COLAB:\n",
        "  from google.colab import drive\n",
        "  drive.mount('/content/drive')\n",
        "  IMG_PATH = '/content/drive/MyDrive/JHU/DNN/FinalProject'\n",
        "else:\n",
        "  IMG_PATH= '.'"
      ],
      "execution_count": 2,
      "outputs": [
        {
          "output_type": "stream",
          "name": "stdout",
          "text": [
            "Mounted at /content/drive\n"
          ]
        }
      ]
    },
    {
      "cell_type": "code",
      "metadata": {
        "id": "WuWp6ckgPErM"
      },
      "source": [
        "TRAIN_PATH = f'{IMG_PATH}/Train.csv'\n",
        "TEST_PATH = f'{IMG_PATH}/Test.csv'"
      ],
      "execution_count": 3,
      "outputs": []
    },
    {
      "cell_type": "code",
      "metadata": {
        "id": "PVhVRjCTRQbF"
      },
      "source": [
        "import time\n",
        "\n",
        "t0 = time.time()"
      ],
      "execution_count": 4,
      "outputs": []
    },
    {
      "cell_type": "markdown",
      "metadata": {
        "id": "bAkRDaUKPK85"
      },
      "source": [
        "## Imports"
      ]
    },
    {
      "cell_type": "code",
      "metadata": {
        "id": "SDW9zbv1ix2R"
      },
      "source": [
        "import tensorflow as tf"
      ],
      "execution_count": 5,
      "outputs": []
    },
    {
      "cell_type": "markdown",
      "metadata": {
        "id": "bI6ib2UUUF2F"
      },
      "source": [
        "Import tf addons\n",
        "For some reason colab does not allow minor version e.g. specifying 2.6"
      ]
    },
    {
      "cell_type": "code",
      "metadata": {
        "id": "JqtgmoTITUPw"
      },
      "source": [
        "!pip -q install -U tensorflow_addons > log \n",
        "import tensorflow_addons as tfa"
      ],
      "execution_count": 6,
      "outputs": []
    },
    {
      "cell_type": "code",
      "metadata": {
        "id": "C6pEJSKteFfk"
      },
      "source": [
        ""
      ],
      "execution_count": 6,
      "outputs": []
    },
    {
      "cell_type": "code",
      "metadata": {
        "id": "uW_D9bl6WLqP",
        "colab": {
          "base_uri": "https://localhost:8080/"
        },
        "outputId": "91e25572-696c-45d0-8c7b-0c51987df7c9"
      },
      "source": [
        "!pip install tf-image\n",
        "from tf_image.core.bboxes.rotate import random_rotate\n",
        "from tf_image.core.random import random_function_bboxes\n",
        "from tf_image.core.bboxes.flip import flip_left_right"
      ],
      "execution_count": 7,
      "outputs": [
        {
          "output_type": "stream",
          "name": "stdout",
          "text": [
            "Collecting tf-image\n",
            "  Downloading tf_image-0.2.0-py3-none-any.whl (20 kB)\n",
            "Installing collected packages: tf-image\n",
            "Successfully installed tf-image-0.2.0\n"
          ]
        }
      ]
    },
    {
      "cell_type": "code",
      "metadata": {
        "id": "zuvrsh3lSBaY",
        "colab": {
          "base_uri": "https://localhost:8080/"
        },
        "outputId": "a2c53438-1da6-440d-aa9c-9c4d481ae4aa"
      },
      "source": [
        "# Clone from repo and cd into repo\n",
        "!git clone https://github.com/edwin-yan/Passion-Fruit-Disease-Detection\n",
        "\n",
        "# Change directory\n",
        "%cd Passion-Fruit-Disease-Detection\n",
        "\n",
        "# Checkout specific branch\n",
        "!git checkout andrew"
      ],
      "execution_count": 8,
      "outputs": [
        {
          "output_type": "stream",
          "name": "stdout",
          "text": [
            "Cloning into 'Passion-Fruit-Disease-Detection'...\n",
            "remote: Enumerating objects: 351, done.\u001b[K\n",
            "remote: Counting objects: 100% (351/351), done.\u001b[K\n",
            "remote: Compressing objects: 100% (280/280), done.\u001b[K\n",
            "remote: Total 351 (delta 146), reused 197 (delta 56), pack-reused 0\u001b[K\n",
            "Receiving objects: 100% (351/351), 175.31 MiB | 15.44 MiB/s, done.\n",
            "Resolving deltas: 100% (146/146), done.\n",
            "/content/Passion-Fruit-Disease-Detection\n",
            "Branch 'andrew' set up to track remote branch 'andrew' from 'origin'.\n",
            "Switched to a new branch 'andrew'\n"
          ]
        }
      ]
    },
    {
      "cell_type": "code",
      "metadata": {
        "id": "X8SH_fIRSW0G",
        "colab": {
          "base_uri": "https://localhost:8080/"
        },
        "outputId": "d175df70-8964-45b1-bc99-3b76596c25f2"
      },
      "source": [
        "!ls"
      ],
      "execution_count": 9,
      "outputs": [
        {
          "output_type": "stream",
          "name": "stdout",
          "text": [
            "Baseline_Model.ipynb\t\t\t\t\t      Models\n",
            "Eager_few_shot_od_training_colab_DNN_FINAL.ipynb\t      README.md\n",
            "EDA_colab.ipynb\t\t\t\t\t\t      Test.csv\n",
            "EDA.ipynb\t\t\t\t\t\t      Test_Images\n",
            "helper.py\t\t\t\t\t\t      Train_colab.ipynb\n",
            "Image_Augmentation_colab.ipynb\t\t\t\t      Train.csv\n",
            "inference_colab.ipynb\t\t\t\t\t      Train_Images\n",
            "Interactive_eager_few_shot_od_training_colab_DNN_FINAL.ipynb  yolo5Input\n"
          ]
        }
      ]
    },
    {
      "cell_type": "code",
      "metadata": {
        "id": "kVtzOYVAOzKW"
      },
      "source": [
        "import pandas as pd\n",
        "from helper import plot_sample_images, plot_sample_images_multi"
      ],
      "execution_count": 10,
      "outputs": []
    },
    {
      "cell_type": "code",
      "metadata": {
        "id": "JhvzJ-XnetBI"
      },
      "source": [
        "import matplotlib.image as img\n",
        "import matplotlib.pyplot as plt\n",
        "import numpy as np\n",
        "from PIL import Image\n",
        "# https://docs.python.org/3/library/uuid.html\n",
        "import uuid"
      ],
      "execution_count": 11,
      "outputs": []
    },
    {
      "cell_type": "code",
      "metadata": {
        "jupyter": {
          "outputs_hidden": false
        },
        "pycharm": {
          "name": "#%%\n"
        },
        "id": "rUFPeZAUOzKZ",
        "colab": {
          "base_uri": "https://localhost:8080/"
        },
        "outputId": "a9f327a6-c448-45d8-ab21-c81ee7782850"
      },
      "source": [
        "df_train, df_test = pd.read_csv(TRAIN_PATH), pd.read_csv(TEST_PATH)\n",
        "print(f\"Training Data Shape:  {df_train.shape}\\nTest Data Shape:      {df_test.shape}\")"
      ],
      "execution_count": 12,
      "outputs": [
        {
          "output_type": "stream",
          "name": "stdout",
          "text": [
            "Training Data Shape:  (3906, 6)\n",
            "Test Data Shape:      (931, 1)\n"
          ]
        }
      ]
    },
    {
      "cell_type": "code",
      "metadata": {
        "id": "vdC98NroOzKb",
        "colab": {
          "base_uri": "https://localhost:8080/"
        },
        "outputId": "d7d549f3-4f63-44e8-e6d6-5b7108484f47"
      },
      "source": [
        "df_train.Image_ID.value_counts().head(10)"
      ],
      "execution_count": 13,
      "outputs": [
        {
          "output_type": "execute_result",
          "data": {
            "text/plain": [
              "ID_M34YFAR2    5\n",
              "ID_AF7K88JS    5\n",
              "ID_LZI2KVVE    5\n",
              "ID_OYN556Y0    5\n",
              "ID_XEMG90OT    5\n",
              "ID_E71JKA0R    4\n",
              "ID_NCXRHK4H    4\n",
              "ID_2OZEHLDV    4\n",
              "ID_TTWDHCY1    4\n",
              "ID_I2WILH68    4\n",
              "Name: Image_ID, dtype: int64"
            ]
          },
          "metadata": {},
          "execution_count": 13
        }
      ]
    },
    {
      "cell_type": "code",
      "metadata": {
        "jupyter": {
          "outputs_hidden": false
        },
        "pycharm": {
          "name": "#%%\n"
        },
        "id": "eIRzNTEQOzKb",
        "colab": {
          "base_uri": "https://localhost:8080/"
        },
        "outputId": "a231d95e-f7f5-4ed0-8a26-783576646823"
      },
      "source": [
        "df_train['class'].value_counts()"
      ],
      "execution_count": 14,
      "outputs": [
        {
          "output_type": "execute_result",
          "data": {
            "text/plain": [
              "fruit_healthy      1638\n",
              "fruit_woodiness    1246\n",
              "fruit_brownspot    1022\n",
              "Name: class, dtype: int64"
            ]
          },
          "metadata": {},
          "execution_count": 14
        }
      ]
    },
    {
      "cell_type": "code",
      "metadata": {
        "id": "vJuTed8wOzKc"
      },
      "source": [
        "# plot_sample_images_multi(df_train,dir_path=IMG_PATH)"
      ],
      "execution_count": 15,
      "outputs": []
    },
    {
      "cell_type": "code",
      "metadata": {
        "jupyter": {
          "outputs_hidden": false
        },
        "pycharm": {
          "name": "#%%\n"
        },
        "id": "5IXSLAsmOzKc"
      },
      "source": [
        "# plot_sample_images_multi(df_test, show_label=False, is_train=False,dir_path=IMG_PATH)"
      ],
      "execution_count": 16,
      "outputs": []
    },
    {
      "cell_type": "markdown",
      "metadata": {
        "id": "ZNKKkIy6Wbm1"
      },
      "source": [
        "Try Image Augmentation"
      ]
    },
    {
      "cell_type": "markdown",
      "metadata": {
        "id": "B1WAALfoXHMw"
      },
      "source": [
        "I think the require format is https://github.com/Ximilar-com/tf-image/blob/master/tf_image/core/bboxes/rotate.py\n",
        "\n",
        " [ymin, xmin, ymin, xmax]."
      ]
    },
    {
      "cell_type": "markdown",
      "metadata": {
        "id": "zVwh6wwSXfoX"
      },
      "source": [
        "## FIRST update the df_train"
      ]
    },
    {
      "cell_type": "code",
      "metadata": {
        "id": "lWCh0P45YdOX"
      },
      "source": [
        "IMG_HEIGHT = 512\n",
        "IMG_WIDTH = 512"
      ],
      "execution_count": 17,
      "outputs": []
    },
    {
      "cell_type": "code",
      "metadata": {
        "id": "puloYxC1KoTr",
        "colab": {
          "base_uri": "https://localhost:8080/",
          "height": 202
        },
        "outputId": "f40dcb6d-ee27-4858-d04b-b9f2e79eef03"
      },
      "source": [
        "df_train.head()"
      ],
      "execution_count": 18,
      "outputs": [
        {
          "output_type": "execute_result",
          "data": {
            "text/html": [
              "<div>\n",
              "<style scoped>\n",
              "    .dataframe tbody tr th:only-of-type {\n",
              "        vertical-align: middle;\n",
              "    }\n",
              "\n",
              "    .dataframe tbody tr th {\n",
              "        vertical-align: top;\n",
              "    }\n",
              "\n",
              "    .dataframe thead th {\n",
              "        text-align: right;\n",
              "    }\n",
              "</style>\n",
              "<table border=\"1\" class=\"dataframe\">\n",
              "  <thead>\n",
              "    <tr style=\"text-align: right;\">\n",
              "      <th></th>\n",
              "      <th>Image_ID</th>\n",
              "      <th>class</th>\n",
              "      <th>xmin</th>\n",
              "      <th>ymin</th>\n",
              "      <th>width</th>\n",
              "      <th>height</th>\n",
              "    </tr>\n",
              "  </thead>\n",
              "  <tbody>\n",
              "    <tr>\n",
              "      <th>0</th>\n",
              "      <td>ID_007FAIEI</td>\n",
              "      <td>fruit_woodiness</td>\n",
              "      <td>87.0</td>\n",
              "      <td>87.5</td>\n",
              "      <td>228.0</td>\n",
              "      <td>311.0</td>\n",
              "    </tr>\n",
              "    <tr>\n",
              "      <th>1</th>\n",
              "      <td>ID_00G8K1V3</td>\n",
              "      <td>fruit_brownspot</td>\n",
              "      <td>97.5</td>\n",
              "      <td>17.5</td>\n",
              "      <td>245.0</td>\n",
              "      <td>354.5</td>\n",
              "    </tr>\n",
              "    <tr>\n",
              "      <th>2</th>\n",
              "      <td>ID_00WROUT9</td>\n",
              "      <td>fruit_brownspot</td>\n",
              "      <td>156.5</td>\n",
              "      <td>209.5</td>\n",
              "      <td>248.0</td>\n",
              "      <td>302.5</td>\n",
              "    </tr>\n",
              "    <tr>\n",
              "      <th>3</th>\n",
              "      <td>ID_00ZJEEK3</td>\n",
              "      <td>fruit_healthy</td>\n",
              "      <td>125.0</td>\n",
              "      <td>193.0</td>\n",
              "      <td>254.5</td>\n",
              "      <td>217.0</td>\n",
              "    </tr>\n",
              "    <tr>\n",
              "      <th>4</th>\n",
              "      <td>ID_018UIENR</td>\n",
              "      <td>fruit_brownspot</td>\n",
              "      <td>79.5</td>\n",
              "      <td>232.5</td>\n",
              "      <td>233.5</td>\n",
              "      <td>182.0</td>\n",
              "    </tr>\n",
              "  </tbody>\n",
              "</table>\n",
              "</div>"
            ],
            "text/plain": [
              "      Image_ID            class   xmin   ymin  width  height\n",
              "0  ID_007FAIEI  fruit_woodiness   87.0   87.5  228.0   311.0\n",
              "1  ID_00G8K1V3  fruit_brownspot   97.5   17.5  245.0   354.5\n",
              "2  ID_00WROUT9  fruit_brownspot  156.5  209.5  248.0   302.5\n",
              "3  ID_00ZJEEK3    fruit_healthy  125.0  193.0  254.5   217.0\n",
              "4  ID_018UIENR  fruit_brownspot   79.5  232.5  233.5   182.0"
            ]
          },
          "metadata": {},
          "execution_count": 18
        }
      ]
    },
    {
      "cell_type": "markdown",
      "metadata": {
        "id": "J6xV_KBHageI"
      },
      "source": [
        "Copy for use later"
      ]
    },
    {
      "cell_type": "code",
      "metadata": {
        "id": "441_0XrfaXmz"
      },
      "source": [
        "df_original = df_train.copy()"
      ],
      "execution_count": 19,
      "outputs": []
    },
    {
      "cell_type": "code",
      "metadata": {
        "id": "ZTg-KY4MXlAY"
      },
      "source": [
        "# get xmax\n",
        "df_train['xmax'] = df_train['xmin'] + df_train['width']\n",
        "# get ymax\n",
        "df_train['ymax'] = df_train['ymin'] + df_train['height']"
      ],
      "execution_count": 20,
      "outputs": []
    },
    {
      "cell_type": "code",
      "metadata": {
        "id": "Lq9OSfUDXwqB",
        "colab": {
          "base_uri": "https://localhost:8080/",
          "height": 415
        },
        "outputId": "f78bff8d-4167-433b-d546-9d53c96024a0"
      },
      "source": [
        "df_train"
      ],
      "execution_count": 21,
      "outputs": [
        {
          "output_type": "execute_result",
          "data": {
            "text/html": [
              "<div>\n",
              "<style scoped>\n",
              "    .dataframe tbody tr th:only-of-type {\n",
              "        vertical-align: middle;\n",
              "    }\n",
              "\n",
              "    .dataframe tbody tr th {\n",
              "        vertical-align: top;\n",
              "    }\n",
              "\n",
              "    .dataframe thead th {\n",
              "        text-align: right;\n",
              "    }\n",
              "</style>\n",
              "<table border=\"1\" class=\"dataframe\">\n",
              "  <thead>\n",
              "    <tr style=\"text-align: right;\">\n",
              "      <th></th>\n",
              "      <th>Image_ID</th>\n",
              "      <th>class</th>\n",
              "      <th>xmin</th>\n",
              "      <th>ymin</th>\n",
              "      <th>width</th>\n",
              "      <th>height</th>\n",
              "      <th>xmax</th>\n",
              "      <th>ymax</th>\n",
              "    </tr>\n",
              "  </thead>\n",
              "  <tbody>\n",
              "    <tr>\n",
              "      <th>0</th>\n",
              "      <td>ID_007FAIEI</td>\n",
              "      <td>fruit_woodiness</td>\n",
              "      <td>87.0</td>\n",
              "      <td>87.5</td>\n",
              "      <td>228.0</td>\n",
              "      <td>311.0</td>\n",
              "      <td>315.0</td>\n",
              "      <td>398.5</td>\n",
              "    </tr>\n",
              "    <tr>\n",
              "      <th>1</th>\n",
              "      <td>ID_00G8K1V3</td>\n",
              "      <td>fruit_brownspot</td>\n",
              "      <td>97.5</td>\n",
              "      <td>17.5</td>\n",
              "      <td>245.0</td>\n",
              "      <td>354.5</td>\n",
              "      <td>342.5</td>\n",
              "      <td>372.0</td>\n",
              "    </tr>\n",
              "    <tr>\n",
              "      <th>2</th>\n",
              "      <td>ID_00WROUT9</td>\n",
              "      <td>fruit_brownspot</td>\n",
              "      <td>156.5</td>\n",
              "      <td>209.5</td>\n",
              "      <td>248.0</td>\n",
              "      <td>302.5</td>\n",
              "      <td>404.5</td>\n",
              "      <td>512.0</td>\n",
              "    </tr>\n",
              "    <tr>\n",
              "      <th>3</th>\n",
              "      <td>ID_00ZJEEK3</td>\n",
              "      <td>fruit_healthy</td>\n",
              "      <td>125.0</td>\n",
              "      <td>193.0</td>\n",
              "      <td>254.5</td>\n",
              "      <td>217.0</td>\n",
              "      <td>379.5</td>\n",
              "      <td>410.0</td>\n",
              "    </tr>\n",
              "    <tr>\n",
              "      <th>4</th>\n",
              "      <td>ID_018UIENR</td>\n",
              "      <td>fruit_brownspot</td>\n",
              "      <td>79.5</td>\n",
              "      <td>232.5</td>\n",
              "      <td>233.5</td>\n",
              "      <td>182.0</td>\n",
              "      <td>313.0</td>\n",
              "      <td>414.5</td>\n",
              "    </tr>\n",
              "    <tr>\n",
              "      <th>...</th>\n",
              "      <td>...</td>\n",
              "      <td>...</td>\n",
              "      <td>...</td>\n",
              "      <td>...</td>\n",
              "      <td>...</td>\n",
              "      <td>...</td>\n",
              "      <td>...</td>\n",
              "      <td>...</td>\n",
              "    </tr>\n",
              "    <tr>\n",
              "      <th>3901</th>\n",
              "      <td>ID_ZZAB1FH1</td>\n",
              "      <td>fruit_healthy</td>\n",
              "      <td>96.0</td>\n",
              "      <td>175.5</td>\n",
              "      <td>289.5</td>\n",
              "      <td>222.0</td>\n",
              "      <td>385.5</td>\n",
              "      <td>397.5</td>\n",
              "    </tr>\n",
              "    <tr>\n",
              "      <th>3902</th>\n",
              "      <td>ID_ZZAB1FH1</td>\n",
              "      <td>fruit_healthy</td>\n",
              "      <td>330.0</td>\n",
              "      <td>241.0</td>\n",
              "      <td>182.0</td>\n",
              "      <td>180.5</td>\n",
              "      <td>512.0</td>\n",
              "      <td>421.5</td>\n",
              "    </tr>\n",
              "    <tr>\n",
              "      <th>3903</th>\n",
              "      <td>ID_ZZJZ2CV6</td>\n",
              "      <td>fruit_healthy</td>\n",
              "      <td>358.0</td>\n",
              "      <td>234.0</td>\n",
              "      <td>134.5</td>\n",
              "      <td>107.0</td>\n",
              "      <td>492.5</td>\n",
              "      <td>341.0</td>\n",
              "    </tr>\n",
              "    <tr>\n",
              "      <th>3904</th>\n",
              "      <td>ID_ZZJZ2CV6</td>\n",
              "      <td>fruit_healthy</td>\n",
              "      <td>98.5</td>\n",
              "      <td>135.0</td>\n",
              "      <td>275.5</td>\n",
              "      <td>213.5</td>\n",
              "      <td>374.0</td>\n",
              "      <td>348.5</td>\n",
              "    </tr>\n",
              "    <tr>\n",
              "      <th>3905</th>\n",
              "      <td>ID_ZZO9KIH9</td>\n",
              "      <td>fruit_woodiness</td>\n",
              "      <td>123.5</td>\n",
              "      <td>218.5</td>\n",
              "      <td>197.5</td>\n",
              "      <td>153.5</td>\n",
              "      <td>321.0</td>\n",
              "      <td>372.0</td>\n",
              "    </tr>\n",
              "  </tbody>\n",
              "</table>\n",
              "<p>3906 rows × 8 columns</p>\n",
              "</div>"
            ],
            "text/plain": [
              "         Image_ID            class   xmin   ymin  width  height   xmax   ymax\n",
              "0     ID_007FAIEI  fruit_woodiness   87.0   87.5  228.0   311.0  315.0  398.5\n",
              "1     ID_00G8K1V3  fruit_brownspot   97.5   17.5  245.0   354.5  342.5  372.0\n",
              "2     ID_00WROUT9  fruit_brownspot  156.5  209.5  248.0   302.5  404.5  512.0\n",
              "3     ID_00ZJEEK3    fruit_healthy  125.0  193.0  254.5   217.0  379.5  410.0\n",
              "4     ID_018UIENR  fruit_brownspot   79.5  232.5  233.5   182.0  313.0  414.5\n",
              "...           ...              ...    ...    ...    ...     ...    ...    ...\n",
              "3901  ID_ZZAB1FH1    fruit_healthy   96.0  175.5  289.5   222.0  385.5  397.5\n",
              "3902  ID_ZZAB1FH1    fruit_healthy  330.0  241.0  182.0   180.5  512.0  421.5\n",
              "3903  ID_ZZJZ2CV6    fruit_healthy  358.0  234.0  134.5   107.0  492.5  341.0\n",
              "3904  ID_ZZJZ2CV6    fruit_healthy   98.5  135.0  275.5   213.5  374.0  348.5\n",
              "3905  ID_ZZO9KIH9  fruit_woodiness  123.5  218.5  197.5   153.5  321.0  372.0\n",
              "\n",
              "[3906 rows x 8 columns]"
            ]
          },
          "metadata": {},
          "execution_count": 21
        }
      ]
    },
    {
      "cell_type": "markdown",
      "metadata": {
        "id": "rlZAGL-TXwb0"
      },
      "source": [
        ""
      ]
    },
    {
      "cell_type": "code",
      "metadata": {
        "id": "QVVE8irre7HI"
      },
      "source": [
        "imgID = 'ID_007FAIEI'"
      ],
      "execution_count": 22,
      "outputs": []
    },
    {
      "cell_type": "code",
      "metadata": {
        "id": "FnLqA4Fi5753"
      },
      "source": [
        "def flipLR(bounding_boxes):\n",
        "  bboxes = bounding_boxes * tf.constant([1, -1, 1, -1], dtype=tf.float32) + tf.stack([0.0, 1.0, 0.0, 1.0])\n",
        "  bboxes = tf.stack([bboxes[:, 0], bboxes[:, 3], bboxes[:, 2], bboxes[:, 1]], axis=1)\n",
        "  return bboxes"
      ],
      "execution_count": 23,
      "outputs": []
    },
    {
      "cell_type": "code",
      "metadata": {
        "id": "CYj3zL18eyZy"
      },
      "source": [
        "def rotateImage(imgID,imgClass, xmin_toRot, ymin_toRot,xmax_toRot, ymax_toRot ,df_original):\n",
        "  train_toRotate_path = f'{IMG_PATH}/Train_Images/{imgID}.jpg'\n",
        "  image = img.imread(train_toRotate_path)\n",
        "\n",
        "  xmin_toRot = xmin_toRot\n",
        "  ymin_toRot = ymin_toRot\n",
        "  xmax_toRot = xmax_toRot\n",
        "  ymax_toRot = ymax_toRot\n",
        "\n",
        "  # \n",
        "  # fig, ax = plt.subplots()\n",
        "  # from matplotlib.patches import Rectangle\n",
        "  # ax.imshow(image)\n",
        "  # rect = Rectangle((xmin_toRot,ymin_toRot),xmax_toRot-xmin_toRot,ymax_toRot-ymin_toRot, linewidth=1, edgecolor='r', facecolor='none')\n",
        "\n",
        "  # ax.add_patch(rect)\n",
        "  # plt.show()\n",
        "\n",
        "  image = tf.io.read_file(train_toRotate_path)\n",
        "  image = tf.image.decode_jpeg(image)\n",
        "  bounding_boxes = tf.constant([[ymin_toRot,xmin_toRot,  ymax_toRot,xmax_toRot ]],dtype=tf.float32)\n",
        "  image_rot, bb  = flip_left_right(\n",
        "      image, bounding_boxes\n",
        "  )\n",
        "\n",
        "  bboxes = flipLR(bounding_boxes)\n",
        "  rotatedBB = (np.array(bboxes))[0]\n",
        "  rotYmin = rotatedBB[0]\n",
        "  rotXmin = rotatedBB[1] + 512\n",
        "  rotYmax = rotatedBB[2]\n",
        "  rotXmax = rotatedBB[3] + 512\n",
        "  width = rotXmax - rotXmin\n",
        "  height = rotYmax - rotYmin\n",
        "\n",
        "  #\n",
        "  # fig, ax = plt.subplots()\n",
        "  # from matplotlib.patches import Rectangle\n",
        "  # ax.imshow(image_rot)\n",
        "  # rect = Rectangle((rotXmin,rotYmin),rotXmax-rotXmin,rotYmax-rotYmin, linewidth=1, edgecolor='r', facecolor='none')\n",
        "\n",
        "  # ax.add_patch(rect)\n",
        "  # plt.show()\n",
        "\n",
        "  # Write augmented image to folder: \n",
        "  # create uuid based on time\n",
        "  new_imgID = f'{imgID}_{uuid.uuid1()}'\n",
        "  tf_image = tf.image.encode_jpeg(image_rot)\n",
        "  tf.io.write_file(f'{IMG_PATH}/Train_Images_Augmented/{new_imgID}.jpg', tf_image)\n",
        "\n",
        "  df_original = df_original.append({  'Image_ID':new_imgID,\t'class':imgClass,\t'xmin':rotXmin,\t'ymin':rotYmin,\t'width':width,\t'height':height},ignore_index=True)\n",
        "\n",
        "  return df_original, image_rot, rotXmin,  rotYmin, width, height\n"
      ],
      "execution_count": 24,
      "outputs": []
    },
    {
      "cell_type": "markdown",
      "metadata": {
        "id": "DoRA2Q0JW_a6"
      },
      "source": [
        "https://stackoverflow.com/questions/55737105/why-wont-tf-write-file-write-a-file"
      ]
    },
    {
      "cell_type": "code",
      "metadata": {
        "id": "9OHU_ya5iPbq"
      },
      "source": [
        "for index, row in df_train.iterrows():\n",
        "    df_original, image_rot,  rotXmin,  rotYmin, width, height  = rotateImage(row['Image_ID'], row['class'], row['xmin'], row['ymin'], row['xmax'],row['ymax'],df_original)\n",
        "    # fig, ax = plt.subplots()\n",
        "    # from matplotlib.patches import Rectangle\n",
        "    # ax.imshow(image_rot)\n",
        "    # rect = Rectangle((rotXmin,rotYmin),width,height, linewidth=1, edgecolor='r', facecolor='none')\n",
        "\n",
        "    # ax.add_patch(rect)\n",
        "    # plt.show()"
      ],
      "execution_count": null,
      "outputs": []
    },
    {
      "cell_type": "markdown",
      "metadata": {
        "id": "calxJG9j2VJt"
      },
      "source": [
        "https://stackoverflow.com/questions/54255431/invalidargumenterror-cannot-compute-matmul-as-input-0zero-based-was-expected"
      ]
    },
    {
      "cell_type": "markdown",
      "metadata": {
        "id": "6vivvGeqlSW5"
      },
      "source": [
        "https://stackoverflow.com/questions/37435369/matplotlib-how-to-draw-a-rectangle-on-image"
      ]
    },
    {
      "cell_type": "code",
      "metadata": {
        "id": "KTvEQyinc9X0"
      },
      "source": [
        "df_original.to_csv(f'{IMG_PATH}/train_augmented.csv', encoding='utf-8', index=False)"
      ],
      "execution_count": null,
      "outputs": []
    },
    {
      "cell_type": "code",
      "metadata": {
        "id": "cKbSGVIbGoQw"
      },
      "source": [
        ""
      ],
      "execution_count": null,
      "outputs": []
    }
  ]
}