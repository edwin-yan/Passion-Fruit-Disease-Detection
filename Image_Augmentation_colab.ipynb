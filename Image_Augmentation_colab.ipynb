{
  "nbformat": 4,
  "nbformat_minor": 0,
  "metadata": {
    "kernelspec": {
      "display_name": "Python 3",
      "language": "python",
      "name": "python3"
    },
    "language_info": {
      "codemirror_mode": {
        "name": "ipython",
        "version": 3
      },
      "file_extension": ".py",
      "mimetype": "text/x-python",
      "name": "python",
      "nbconvert_exporter": "python",
      "pygments_lexer": "ipython3",
      "version": "3.8.5"
    },
    "colab": {
      "name": "Image_Augmentation_colab.ipynb",
      "provenance": [],
      "collapsed_sections": [],
      "include_colab_link": true
    }
  },
  "cells": [
    {
      "cell_type": "markdown",
      "metadata": {
        "id": "view-in-github",
        "colab_type": "text"
      },
      "source": [
        "<a href=\"https://colab.research.google.com/github/edwin-yan/Passion-Fruit-Disease-Detection/blob/andrew/Image_Augmentation_colab.ipynb\" target=\"_parent\"><img src=\"https://colab.research.google.com/assets/colab-badge.svg\" alt=\"Open In Colab\"/></a>"
      ]
    },
    {
      "cell_type": "markdown",
      "metadata": {
        "id": "OR6eeuKvWFV5"
      },
      "source": [
        "# Image Augmentation\n",
        "\n",
        "Using this library to do image augmentation\n",
        "https://towardsdatascience.com/tensorflow-and-image-augmentation-3610c6c243a2"
      ]
    },
    {
      "cell_type": "markdown",
      "metadata": {
        "id": "_cPinh_su0S3"
      },
      "source": [
        "# SET UP\n",
        "## Mounting\n",
        "\n",
        "Note that this assumes that your google drive folder has the same document layout. You must modify if that is not the case.\n",
        "\n",
        "\n",
        "From your root Google Drive directory create a couple of folders:\n",
        "* `JHU/DNN/FinalProject/Train_Images`\n",
        "* `JHU/DNN/FinalProject/Test_Images` \n",
        "\n",
        "with Train and test images unzipped in those directories\n",
        "\n"
      ]
    },
    {
      "cell_type": "markdown",
      "metadata": {
        "id": "tRoyDIQtpR6Y"
      },
      "source": [
        "# **TODO:** GLOBAL VARIABLE set to `True` if using colab and `False` if not!"
      ]
    },
    {
      "cell_type": "code",
      "metadata": {
        "id": "a9XybEmrpU_7"
      },
      "source": [
        "IS_COLAB = True "
      ],
      "execution_count": 1,
      "outputs": []
    },
    {
      "cell_type": "markdown",
      "metadata": {
        "id": "iQ8qkfLuJRrb"
      },
      "source": [
        "# **TODO:** CHANGE `IMG_DIR` if your google drive directory is different"
      ]
    },
    {
      "cell_type": "code",
      "metadata": {
        "id": "xxrO_DraRknb",
        "colab": {
          "base_uri": "https://localhost:8080/"
        },
        "outputId": "703e9e90-b2a2-40a6-f4dc-9e17b37ace53"
      },
      "source": [
        "if IS_COLAB:\n",
        "  from google.colab import drive\n",
        "  drive.mount('/content/drive')\n",
        "  IMG_PATH = '/content/drive/MyDrive/JHU/DNN/FinalProject'\n",
        "else:\n",
        "  IMG_PATH= '.'"
      ],
      "execution_count": 2,
      "outputs": [
        {
          "output_type": "stream",
          "name": "stdout",
          "text": [
            "Mounted at /content/drive\n"
          ]
        }
      ]
    },
    {
      "cell_type": "code",
      "metadata": {
        "id": "WuWp6ckgPErM"
      },
      "source": [
        "TRAIN_PATH = f'{IMG_PATH}/Train.csv'\n",
        "TEST_PATH = f'{IMG_PATH}/Test.csv'"
      ],
      "execution_count": 3,
      "outputs": []
    },
    {
      "cell_type": "code",
      "metadata": {
        "id": "PVhVRjCTRQbF"
      },
      "source": [
        "import time\n",
        "\n",
        "t0 = time.time()"
      ],
      "execution_count": 4,
      "outputs": []
    },
    {
      "cell_type": "markdown",
      "metadata": {
        "id": "bAkRDaUKPK85"
      },
      "source": [
        "## Imports"
      ]
    },
    {
      "cell_type": "code",
      "metadata": {
        "id": "SDW9zbv1ix2R"
      },
      "source": [
        "import tensorflow as tf"
      ],
      "execution_count": 5,
      "outputs": []
    },
    {
      "cell_type": "markdown",
      "metadata": {
        "id": "bI6ib2UUUF2F"
      },
      "source": [
        "Import tf addons\n",
        "For some reason colab does not allow minor version e.g. specifying 2.6"
      ]
    },
    {
      "cell_type": "code",
      "metadata": {
        "id": "JqtgmoTITUPw"
      },
      "source": [
        "!pip -q install -U tensorflow_addons > log \n",
        "import tensorflow_addons as tfa"
      ],
      "execution_count": 6,
      "outputs": []
    },
    {
      "cell_type": "code",
      "metadata": {
        "id": "C6pEJSKteFfk"
      },
      "source": [
        ""
      ],
      "execution_count": 6,
      "outputs": []
    },
    {
      "cell_type": "code",
      "metadata": {
        "id": "uW_D9bl6WLqP",
        "colab": {
          "base_uri": "https://localhost:8080/"
        },
        "outputId": "59a1f000-e6b8-4f09-ae20-28f9d2336be2"
      },
      "source": [
        "!pip install tf-image\n",
        "from tf_image.core.bboxes.rotate import random_rotate\n",
        "from tf_image.core.random import random_function_bboxes\n",
        "from tf_image.core.bboxes.flip import flip_left_right"
      ],
      "execution_count": 7,
      "outputs": [
        {
          "output_type": "stream",
          "name": "stdout",
          "text": [
            "Collecting tf-image\n",
            "  Downloading tf_image-0.2.0-py3-none-any.whl (20 kB)\n",
            "Installing collected packages: tf-image\n",
            "Successfully installed tf-image-0.2.0\n"
          ]
        }
      ]
    },
    {
      "cell_type": "code",
      "metadata": {
        "id": "zuvrsh3lSBaY",
        "colab": {
          "base_uri": "https://localhost:8080/"
        },
        "outputId": "e1f0c9cc-8db8-40d9-9187-ef4457ca5922"
      },
      "source": [
        "# Clone from repo and cd into repo\n",
        "!git clone https://github.com/edwin-yan/Passion-Fruit-Disease-Detection\n",
        "\n",
        "# Change directory\n",
        "%cd Passion-Fruit-Disease-Detection\n",
        "\n",
        "# Checkout specific branch\n",
        "!git checkout andrew"
      ],
      "execution_count": null,
      "outputs": [
        {
          "output_type": "stream",
          "name": "stdout",
          "text": [
            "Cloning into 'Passion-Fruit-Disease-Detection'...\n",
            "remote: Enumerating objects: 348, done.\u001b[K\n",
            "remote: Counting objects: 100% (348/348), done.\u001b[K\n"
          ]
        }
      ]
    },
    {
      "cell_type": "code",
      "metadata": {
        "id": "X8SH_fIRSW0G"
      },
      "source": [
        "!ls"
      ],
      "execution_count": null,
      "outputs": []
    },
    {
      "cell_type": "code",
      "metadata": {
        "id": "kVtzOYVAOzKW"
      },
      "source": [
        "import pandas as pd\n",
        "from helper import plot_sample_images, plot_sample_images_multi"
      ],
      "execution_count": null,
      "outputs": []
    },
    {
      "cell_type": "code",
      "metadata": {
        "id": "JhvzJ-XnetBI"
      },
      "source": [
        "import matplotlib.image as img\n",
        "import matplotlib.pyplot as plt\n",
        "import numpy as np\n",
        "from PIL import Image\n",
        "# https://docs.python.org/3/library/uuid.html\n",
        "import uuid"
      ],
      "execution_count": null,
      "outputs": []
    },
    {
      "cell_type": "code",
      "metadata": {
        "jupyter": {
          "outputs_hidden": false
        },
        "pycharm": {
          "name": "#%%\n"
        },
        "id": "rUFPeZAUOzKZ"
      },
      "source": [
        "df_train, df_test = pd.read_csv(TRAIN_PATH), pd.read_csv(TEST_PATH)\n",
        "print(f\"Training Data Shape:  {df_train.shape}\\nTest Data Shape:      {df_test.shape}\")"
      ],
      "execution_count": null,
      "outputs": []
    },
    {
      "cell_type": "code",
      "metadata": {
        "id": "vdC98NroOzKb"
      },
      "source": [
        "df_train.Image_ID.value_counts().head(10)"
      ],
      "execution_count": null,
      "outputs": []
    },
    {
      "cell_type": "code",
      "metadata": {
        "jupyter": {
          "outputs_hidden": false
        },
        "pycharm": {
          "name": "#%%\n"
        },
        "id": "eIRzNTEQOzKb"
      },
      "source": [
        "df_train['class'].value_counts()"
      ],
      "execution_count": null,
      "outputs": []
    },
    {
      "cell_type": "code",
      "metadata": {
        "id": "vJuTed8wOzKc"
      },
      "source": [
        "# plot_sample_images_multi(df_train,dir_path=IMG_PATH)"
      ],
      "execution_count": null,
      "outputs": []
    },
    {
      "cell_type": "code",
      "metadata": {
        "jupyter": {
          "outputs_hidden": false
        },
        "pycharm": {
          "name": "#%%\n"
        },
        "id": "5IXSLAsmOzKc"
      },
      "source": [
        "# plot_sample_images_multi(df_test, show_label=False, is_train=False,dir_path=IMG_PATH)"
      ],
      "execution_count": null,
      "outputs": []
    },
    {
      "cell_type": "markdown",
      "metadata": {
        "id": "ZNKKkIy6Wbm1"
      },
      "source": [
        "Try Image Augmentation"
      ]
    },
    {
      "cell_type": "markdown",
      "metadata": {
        "id": "B1WAALfoXHMw"
      },
      "source": [
        "I think the require format is https://github.com/Ximilar-com/tf-image/blob/master/tf_image/core/bboxes/rotate.py\n",
        "\n",
        " [ymin, xmin, ymin, xmax]."
      ]
    },
    {
      "cell_type": "markdown",
      "metadata": {
        "id": "zVwh6wwSXfoX"
      },
      "source": [
        "## FIRST update the df_train"
      ]
    },
    {
      "cell_type": "code",
      "metadata": {
        "id": "lWCh0P45YdOX"
      },
      "source": [
        "IMG_HEIGHT = 512\n",
        "IMG_WIDTH = 512"
      ],
      "execution_count": null,
      "outputs": []
    },
    {
      "cell_type": "code",
      "metadata": {
        "id": "puloYxC1KoTr"
      },
      "source": [
        "df_train.head()"
      ],
      "execution_count": null,
      "outputs": []
    },
    {
      "cell_type": "markdown",
      "metadata": {
        "id": "J6xV_KBHageI"
      },
      "source": [
        "Copy for use later"
      ]
    },
    {
      "cell_type": "code",
      "metadata": {
        "id": "441_0XrfaXmz"
      },
      "source": [
        "df_original = df_train.copy()"
      ],
      "execution_count": null,
      "outputs": []
    },
    {
      "cell_type": "code",
      "metadata": {
        "id": "ZTg-KY4MXlAY"
      },
      "source": [
        "# get xmax\n",
        "df_train['xmax'] = df_train['xmin'] + df_train['width']\n",
        "# get ymax\n",
        "df_train['ymax'] = df_train['ymin'] + df_train['height']"
      ],
      "execution_count": null,
      "outputs": []
    },
    {
      "cell_type": "code",
      "metadata": {
        "id": "Lq9OSfUDXwqB"
      },
      "source": [
        "df_train"
      ],
      "execution_count": null,
      "outputs": []
    },
    {
      "cell_type": "markdown",
      "metadata": {
        "id": "rlZAGL-TXwb0"
      },
      "source": [
        ""
      ]
    },
    {
      "cell_type": "code",
      "metadata": {
        "id": "QVVE8irre7HI"
      },
      "source": [
        "imgID = 'ID_007FAIEI'"
      ],
      "execution_count": null,
      "outputs": []
    },
    {
      "cell_type": "code",
      "metadata": {
        "id": "FnLqA4Fi5753"
      },
      "source": [
        "def flipLR(bounding_boxes):\n",
        "  bboxes = bounding_boxes * tf.constant([1, -1, 1, -1], dtype=tf.float32) + tf.stack([0.0, 1.0, 0.0, 1.0])\n",
        "  bboxes = tf.stack([bboxes[:, 0], bboxes[:, 3], bboxes[:, 2], bboxes[:, 1]], axis=1)\n",
        "  return bboxes"
      ],
      "execution_count": null,
      "outputs": []
    },
    {
      "cell_type": "code",
      "metadata": {
        "id": "CYj3zL18eyZy"
      },
      "source": [
        "def rotateImage(imgID,imgClass, xmin_toRot, ymin_toRot,xmax_toRot, ymax_toRot ,df_original):\n",
        "  train_toRotate_path = f'{IMG_PATH}/Train_Images/{imgID}.jpg'\n",
        "  image = img.imread(train_toRotate_path)\n",
        "\n",
        "  xmin_toRot = xmin_toRot\n",
        "  ymin_toRot = ymin_toRot\n",
        "  xmax_toRot = xmax_toRot\n",
        "  ymax_toRot = ymax_toRot\n",
        "\n",
        "  # \n",
        "  # fig, ax = plt.subplots()\n",
        "  # from matplotlib.patches import Rectangle\n",
        "  # ax.imshow(image)\n",
        "  # rect = Rectangle((xmin_toRot,ymin_toRot),xmax_toRot-xmin_toRot,ymax_toRot-ymin_toRot, linewidth=1, edgecolor='r', facecolor='none')\n",
        "\n",
        "  # ax.add_patch(rect)\n",
        "  # plt.show()\n",
        "\n",
        "  image = tf.io.read_file(train_toRotate_path)\n",
        "  image = tf.image.decode_jpeg(image)\n",
        "  bounding_boxes = tf.constant([[ymin_toRot,xmin_toRot,  ymax_toRot,xmax_toRot ]],dtype=tf.float32)\n",
        "  image_rot, bb  = flip_left_right(\n",
        "      image, bounding_boxes\n",
        "  )\n",
        "\n",
        "  bboxes = flipLR(bounding_boxes)\n",
        "  rotatedBB = (np.array(bboxes))[0]\n",
        "  rotYmin = rotatedBB[0]\n",
        "  rotXmin = rotatedBB[1] + 512\n",
        "  rotYmax = rotatedBB[2]\n",
        "  rotXmax = rotatedBB[3] + 512\n",
        "  width = rotXmax - rotXmin\n",
        "  height = rotYmax - rotYmin\n",
        "\n",
        "  #\n",
        "  # fig, ax = plt.subplots()\n",
        "  # from matplotlib.patches import Rectangle\n",
        "  # ax.imshow(image_rot)\n",
        "  # rect = Rectangle((rotXmin,rotYmin),rotXmax-rotXmin,rotYmax-rotYmin, linewidth=1, edgecolor='r', facecolor='none')\n",
        "\n",
        "  # ax.add_patch(rect)\n",
        "  # plt.show()\n",
        "\n",
        "  # Write augmented image to folder: \n",
        "  # create uuid based on time\n",
        "  new_imgID = f'{imgID}_{uuid.uuid1()}'\n",
        "  tf_image = tf.image.encode_jpeg(image_rot)\n",
        "  tf.io.write_file(f'{IMG_PATH}/Train_Images_Augmented/{new_imgID}.jpg', tf_image)\n",
        "\n",
        "  df_original = df_original.append({  'Image_ID':new_imgID,\t'class':imgClass,\t'xmin':rotXmin,\t'ymin':rotYmin,\t'width':width,\t'height':height},ignore_index=True)\n",
        "\n",
        "  return df_original, image_rot, rotXmin,  rotYmin, width, height\n"
      ],
      "execution_count": null,
      "outputs": []
    },
    {
      "cell_type": "code",
      "metadata": {
        "id": "soALwa-jVLbP"
      },
      "source": [
        "  xmin_toRot = df_train.loc[df_train['Image_ID'] == imgID]['xmin'].values[0]\n",
        "  ymin_toRot = df_train.loc[df_train['Image_ID'] == imgID]['ymin'].values[0]\n",
        "  xmax_toRot = df_train.loc[df_train['Image_ID'] == imgID]['xmax'].values[0]\n",
        "  ymax_toRot = df_train.loc[df_train['Image_ID'] == imgID]['ymax'].values[0]"
      ],
      "execution_count": null,
      "outputs": []
    },
    {
      "cell_type": "code",
      "metadata": {
        "id": "r9SGBV_yfOZf"
      },
      "source": [
        "df_original, image_rot,  rotXmin,  rotYmin, width, height = rotateImage(imgID,'fruit_woodiness', xmin_toRot, ymin_toRot,xmax_toRot, ymax_toRot,df_original )"
      ],
      "execution_count": null,
      "outputs": []
    },
    {
      "cell_type": "markdown",
      "metadata": {
        "id": "DoRA2Q0JW_a6"
      },
      "source": [
        "https://stackoverflow.com/questions/55737105/why-wont-tf-write-file-write-a-file"
      ]
    },
    {
      "cell_type": "code",
      "metadata": {
        "id": "9OHU_ya5iPbq"
      },
      "source": [
        "for index, row in df_train.iterrows():\n",
        "    df_original, image_rot,  rotXmin,  rotYmin, width, height  = rotateImage(row['Image_ID'], row['xmin'], row['ymin'], row['xmax'],row['ymax'])"
      ],
      "execution_count": null,
      "outputs": []
    },
    {
      "cell_type": "markdown",
      "metadata": {
        "id": "calxJG9j2VJt"
      },
      "source": [
        "https://stackoverflow.com/questions/54255431/invalidargumenterror-cannot-compute-matmul-as-input-0zero-based-was-expected"
      ]
    },
    {
      "cell_type": "markdown",
      "metadata": {
        "id": "6vivvGeqlSW5"
      },
      "source": [
        "https://stackoverflow.com/questions/37435369/matplotlib-how-to-draw-a-rectangle-on-image"
      ]
    },
    {
      "cell_type": "code",
      "metadata": {
        "id": "KTvEQyinc9X0"
      },
      "source": [
        "df_original.to_csv(f'{IMG_PATH}/train_augmented.csv', encoding='utf-8', index=False)"
      ],
      "execution_count": null,
      "outputs": []
    },
    {
      "cell_type": "code",
      "metadata": {
        "id": "cKbSGVIbGoQw"
      },
      "source": [
        ""
      ],
      "execution_count": null,
      "outputs": []
    }
  ]
}